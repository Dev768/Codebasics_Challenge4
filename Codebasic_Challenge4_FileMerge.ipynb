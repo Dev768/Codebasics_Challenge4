{
 "cells": [
  {
   "cell_type": "code",
   "execution_count": 10,
   "id": "f21379db",
   "metadata": {},
   "outputs": [],
   "source": [
    "import os\n",
    "import glob\n",
    "import pandas as pd\n",
    "#Merge 4 files of domestic visitors from 2016 to 2019.\n",
    "os.chdir(\"C:\\\\Users\\\\Devina\\\\Codebasics_Challenge4\\\\domestic_visitors\")\n",
    "files = [i for i in glob.glob('*.{}'.format('csv'))]\n",
    "\n",
    "#Merging domestic visitors files\n",
    "domestic_visitors = pd.concat([pd.read_csv(f) for f in files])\n",
    "#Save to csv\n",
    "domestic_visitors.to_csv( \"domestic_visitors.csv\", index=False, encoding='utf-8-sig')\n",
    "\n",
    "#Merge 4 files of foreign visitors from 2016 to 2019.\n",
    "os.chdir(\"C:\\\\Users\\\\Devina\\\\Codebasics_Challenge4\\\\foreign_visitors\")\n",
    "files = [i for i in glob.glob('*.{}'.format('csv'))]\n",
    "\n",
    "#Merging domestic visitors files\n",
    "foreign_visitors = pd.concat([pd.read_csv(f) for f in files])\n",
    "#Save to csv\n",
    "foreign_visitors.to_csv( \"foreign_visitors.csv\", index=False, encoding='utf-8-sig')"
   ]
  }
 ],
 "metadata": {
  "kernelspec": {
   "display_name": "Python 3 (ipykernel)",
   "language": "python",
   "name": "python3"
  },
  "language_info": {
   "codemirror_mode": {
    "name": "ipython",
    "version": 3
   },
   "file_extension": ".py",
   "mimetype": "text/x-python",
   "name": "python",
   "nbconvert_exporter": "python",
   "pygments_lexer": "ipython3",
   "version": "3.10.9"
  }
 },
 "nbformat": 4,
 "nbformat_minor": 5
}
